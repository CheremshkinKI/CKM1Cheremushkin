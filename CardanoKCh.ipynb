{
 "cells": [
  {
   "cell_type": "markdown",
   "metadata": {},
   "source": [
    "# Тема:\n",
    "### Плохая обусловленность метода Кардано"
   ]
  },
  {
   "cell_type": "markdown",
   "metadata": {},
   "source": [
    "### Решение кубических уравнений методом Kардано"
   ]
  },
  {
   "cell_type": "markdown",
   "metadata": {},
   "source": [
    "#### Источник уровнений и решения\n",
    "https://www.youtube.com/watch?v=ecsSmmBY56Q&feature=emb_logo"
   ]
  },
  {
   "cell_type": "markdown",
   "metadata": {},
   "source": [
    "Дано кубичесткое уравнение:\n",
    "\n",
    "#### ax^3 + bx^2 + cx + d = 0, a!=0 \n",
    "все коэффициенты и неизвестная  x в общем случае комплексные."
   ]
  },
  {
   "cell_type": "markdown",
   "metadata": {},
   "source": [
    "Корни уравнения:\n",
    "$$\n",
    "x1 = \\alpha + \\beta - \\frac{b}{3a}\n",
    "$$\n",
    "$$\n",
    "x2 = -\\frac{\\alpha + \\beta}{2} - \\frac{b}{3a} - \\frac{i\\sqrt3}{3a}(\\alpha -\\beta)\n",
    "$$\n",
    "$$\n",
    "x3 = -\\frac{\\alpha + \\beta}{2} - \\frac{b}{3a} + \\frac{i\\sqrt3}{3a}(\\alpha - \\beta)\n",
    "$$"
   ]
  },
  {
   "cell_type": "markdown",
   "metadata": {},
   "source": [
    "$$\n",
    "\\alpha=\\sqrt[3]{-\\frac{q}{2}+\\sqrt{\\frac{q^2}{4}+\\frac{p^3}{27}}},\n",
    "\\qquad\n",
    "\\beta=\\sqrt[3]{-\\frac{q}{2}-\\sqrt{\\frac{q^2}{4}+\\frac{p^3}{27}}}.\n",
    "$$\n",
    "$$\n",
    "\\alpha , \\beta -Комплекнсые.числа\n",
    "$$"
   ]
  },
  {
   "cell_type": "markdown",
   "metadata": {},
   "source": [
    "$$\n",
    "Q = \\frac{3ac - b^2}{9a^2}\n",
    "\\qquad\n",
    "R = \\frac{9abc - 27a^2d - 2b^3}{54a^3}\n",
    "$$\n",
    "\n"
   ]
  },
  {
   "cell_type": "markdown",
   "metadata": {},
   "source": [
    "Формула дискреминанта :\n",
    "\n",
    "$D = Q^3 + R^2$ "
   ]
  },
  {
   "cell_type": "markdown",
   "metadata": {},
   "source": [
    "D>0->1 действительный,2-комлексных\n",
    "D<=0 Все корни действительные "
   ]
  },
  {
   "cell_type": "code",
   "execution_count": 1,
   "metadata": {},
   "outputs": [],
   "source": [
    "import sys\n",
    "import numpy as np\n",
    "import matplotlib.pyplot as plt\n",
    "import scipy.optimize as opt\n",
    "\n",
    "from scipy.special import cbrt"
   ]
  },
  {
   "cell_type": "code",
   "execution_count": 2,
   "metadata": {},
   "outputs": [],
   "source": [
    "def cardano(q, w, e, k):\n",
    "    if q == 0:\n",
    "        raise ValueError('Ошибка , т.к. q=0')\n",
    "    K = ((3*q*e - w**2)/ (9*q**2))**3 +((9*q*w*e - 27*q**2*k - 2*w**3) / (54 * q**3))**2 # Дискреминнат D\n",
    "\n",
    "    H = cbrt(((9*q*w*e - 27*q**2*k - 2*w**3) / (54 * q**3)) + np.sqrt(K))  #alpha\n",
    "    L = cbrt(((9*q*w*e - 27*q**2*k - 2*w**3) / (54 * q**3)) - np.sqrt(K))  #beta\n",
    "\n",
    "    if K> 0:\n",
    "        t = 0.5j * np.sqrt(3) * (H - L)\n",
    "    else:\n",
    "        t = 0.5 * np.sqrt(3) * (H - L)\n",
    "    \n",
    "    y0 = - w / (3 * q) + (H + L)\n",
    "    y1 = - w / (3 * q)  - (H + L) / 2 + t\n",
    "    y2 = - w / (3 * q)  - (H + L) / 2 -  t\n",
    "\n",
    "    return y0, y1, y2"
   ]
  },
  {
   "cell_type": "markdown",
   "metadata": {},
   "source": [
    "###### Для своего удобства и  чтобы не  путанься ,не стал брать переменные с уравнений"
   ]
  },
  {
   "cell_type": "markdown",
   "metadata": {},
   "source": [
    "Функция получения ноля-эпсилон"
   ]
  },
  {
   "cell_type": "code",
   "execution_count": 3,
   "metadata": {},
   "outputs": [],
   "source": [
    "def get_eps():\n",
    "    return sys.float_info.epsilon\n",
    "# за это отвечает библиотека sys и подразделение float_info"
   ]
  },
  {
   "cell_type": "code",
   "execution_count": 4,
   "metadata": {},
   "outputs": [
    {
     "data": {
      "text/plain": [
       "2.220446049250313e-16"
      ]
     },
     "execution_count": 4,
     "metadata": {},
     "output_type": "execute_result"
    }
   ],
   "source": [
    "get_eps()"
   ]
  },
  {
   "cell_type": "markdown",
   "metadata": {},
   "source": [
    "Функция для оценки точности в дальнейшем:$ y^3 +3y^2 +\\lambda^2y+3\\lambda^2 =0$\n",
    "(Из задания) "
   ]
  },
  {
   "cell_type": "code",
   "execution_count": 5,
   "metadata": {},
   "outputs": [],
   "source": [
    "def f(y, a):\n",
    "    return y**3 + 3*y**2 + a**2*y + 3*a**2;"
   ]
  },
  {
   "cell_type": "markdown",
   "metadata": {},
   "source": [
    "Оценка точности работы формулы для функции $x^3 + 3x^2 + \\lambda^2x + 3\\lambda^2=0, \\lambda \\in [0, 1/eps]$"
   ]
  },
  {
   "cell_type": "markdown",
   "metadata": {},
   "source": [
    "## Метод Кардано"
   ]
  },
  {
   "cell_type": "code",
   "execution_count": 6,
   "metadata": {
    "scrolled": false
   },
   "outputs": [
    {
     "data": {
      "image/png": "[encoded data removed]",
      "text/plain": [
       "<Figure size 432x288 with 1 Axes>"
      ]
     },
     "metadata": {
      "needs_background": "light"
     },
     "output_type": "display_data"
    },
    {
     "name": "stdout",
     "output_type": "stream",
     "text": [
      "Ymin = -1.0019814915266518e+31\n",
      "Ymax = 1.0070305210322068e+31\n"
     ]
    }
   ],
   "source": [
    "y_min = 0\n",
    "y_max = 0\n",
    "\n",
    "xx = np.linspace(0, 1./get_eps(), 2000)\n",
    "\n",
    "for x in xx: \n",
    "    y0 = cardano(1, 3, x**2, 3*x**2)[0]\n",
    "    y = f(y0, x)\n",
    "    \n",
    "    if y != 0:\n",
    "        y_max = max(y_max, y)\n",
    "        y_min = min(y_min, y)\n",
    "    \n",
    "        plt.scatter(x, y, c = 'blue', s = 5)\n",
    "\n",
    "plt.ylim(bottom = y_min, top = y_max)\n",
    "plt.show()\n",
    "\n",
    "print('Ymin = {0}'.format(y_min))\n",
    "print('Ymax = {0}'.format(y_max))"
   ]
  },
  {
   "cell_type": "markdown",
   "metadata": {},
   "source": [
    "## Сравнение точности работы формулы Кардано, метода Ньютона и метода Брента"
   ]
  },
  {
   "cell_type": "code",
   "execution_count": 7,
   "metadata": {},
   "outputs": [
    {
     "data": {
      "image/png": "[encoded data removed]",
      "text/plain": [
       "<Figure size 432x288 with 1 Axes>"
      ]
     },
     "metadata": {
      "needs_background": "light"
     },
     "output_type": "display_data"
    },
    {
     "data": {
      "image/png": "[encoded data removed]",
      "text/plain": [
       "<Figure size 432x288 with 1 Axes>"
      ]
     },
     "metadata": {
      "needs_background": "light"
     },
     "output_type": "display_data"
    }
   ],
   "source": [
    "y_max = 0\n",
    "y_min = 0\n",
    "x_all=[]\n",
    "y_all=[]\n",
    "x__all=[]\n",
    "x____all=[]\n",
    "xx = np.linspace(0,  1./get_eps(), 300)\n",
    "\n",
    "for x in xx: \n",
    "    expression = lambda _x:f(_x, x)\n",
    "\n",
    "    cardano_y = f(cardano(1, 3, x**2, 3*x**2)[0], x)\n",
    "    newton_y = f(opt.newton(expression, 0), x)\n",
    "    brentq_y = f(opt.brentq(expression, -1000, 1000), x)\n",
    "    \n",
    "          \n",
    "    if brentq_y != 0:\n",
    "        x0=  f(opt.brentq(expression, -1000, 1000), x)\n",
    "        x_all.append(x0)\n",
    "        x_brent=x_all\n",
    "        y_max = max(y_max, brentq_y)\n",
    "        y_min = min(y_min, brentq_y)\n",
    "\n",
    "        plt.scatter(x, newton_y, c = 'lightgreen', s = 7)\n",
    "    \n",
    "    if newton_y != 0:\n",
    "        x0=  f(opt.newton(expression, 0), x)\n",
    "        y_all.append(x0)\n",
    "        x_newton=y_all\n",
    "        y_max = max(y_max, newton_y)\n",
    "        y_min = min(y_min, newton_y)\n",
    "\n",
    "        plt.scatter(x, newton_y, c = 'red', s = 7)\n",
    "        \n",
    "    if cardano_y != 0:\n",
    "        x0=  f(cardano(1, 3, x**2, 3*x**2)[0], x)\n",
    "        x__all.append(x0)\n",
    "        x_car=x__all\n",
    "        y_max = max(y_max, cardano_y)\n",
    "        y_min = min(y_min, cardano_y)\n",
    "        \n",
    "        plt.scatter(x, cardano_y, c = 'blue', s = 7)\n",
    "        \n",
    "  \n",
    "        \n",
    "        \n",
    "plt.ylim(bottom = y_min * 1.25, top = y_max * 1.25)\n",
    "plt.show()\n",
    "###############################################################################################################################\n",
    "#plt.semilogy(np.abs(np.array(np.linspace(0, 1./get_eps(), 300)) - np.pi), label='Newton')\n",
    "#plt.semilogy(np.abs(np.array(opt.brentq(expression, -1000, 1000)) - np.pi), label='Newton')\n",
    "plt.semilogy(np.abs(np.array(x_brent)  - np.pi), label='Brent')\n",
    "plt.semilogy(np.abs(np.array(x_newton) - np.pi), label='Newton')\n",
    "plt.semilogy(np.abs(np.array(x_car) - np.pi), label='Cardano')\n",
    "plt.legend()\n",
    "pass"
   ]
  },
  {
   "cell_type": "markdown",
   "metadata": {},
   "source": [
    "## Вывод\n",
    "По графику можно сделать вывод. Кардано один из самых неточных методов, т.к. допускает значительно больше погрешностей чем метод Брента и ньютона\n",
    "(Логорефмический маштаб , возможно не до концка отлажен(спасибо за понимание)) "
   ]
  }
 ],
 "metadata": {
  "kernelspec": {
   "display_name": "Python 3",
   "language": "python",
   "name": "python3"
  },
  "language_info": {
   "codemirror_mode": {
    "name": "ipython",
    "version": 3
   },
   "file_extension": ".py",
   "mimetype": "text/x-python",
   "name": "python",
   "nbconvert_exporter": "python",
   "pygments_lexer": "ipython3",
   "version": "3.7.4"
  }
 },
 "nbformat": 4,
 "nbformat_minor": 4
}
